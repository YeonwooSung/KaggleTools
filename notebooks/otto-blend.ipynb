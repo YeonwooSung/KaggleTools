{
 "cells": [
  {
   "cell_type": "code",
   "execution_count": 1,
   "id": "614717fc",
   "metadata": {
    "_cell_guid": "b1076dfc-b9ad-4769-8c92-a6c4dae69d19",
    "_uuid": "8f2839f25d086af736a60e9eeb907d3b93b6e0e5",
    "execution": {
     "iopub.execute_input": "2023-01-07T08:55:39.437800Z",
     "iopub.status.busy": "2023-01-07T08:55:39.436993Z",
     "iopub.status.idle": "2023-01-07T08:55:39.538495Z",
     "shell.execute_reply": "2023-01-07T08:55:39.537141Z"
    },
    "papermill": {
     "duration": 0.112045,
     "end_time": "2023-01-07T08:55:39.542426",
     "exception": false,
     "start_time": "2023-01-07T08:55:39.430381",
     "status": "completed"
    },
    "tags": []
   },
   "outputs": [
    {
     "name": "stdout",
     "output_type": "stream",
     "text": [
      "/kaggle/input/otto-candidate-submissions-1114/submission_575.csv\n",
      "/kaggle/input/otto-candidate-submissions-1114/submission_569.csv\n",
      "/kaggle/input/otto-submissions-recbole-fold-8-to-10/submission_fold9.csv\n",
      "/kaggle/input/otto-submissions-recbole-fold-8-to-10/submission_fold8.csv\n",
      "/kaggle/input/otto-submissions-recbole-fold-8-to-10/submission_fold10.csv\n",
      "/kaggle/input/candidate-rerank-model-lb-0-573/top_40_buy2buy_v1_0.pkl\n",
      "/kaggle/input/candidate-rerank-model-lb-0-573/top_40_clicks_v1_0.pkl\n",
      "/kaggle/input/candidate-rerank-model-lb-0-573/__results__.html\n",
      "/kaggle/input/candidate-rerank-model-lb-0-573/top_40_clicks_v1_1.pkl\n",
      "/kaggle/input/candidate-rerank-model-lb-0-573/top_40_carts_orders_v1_2.pkl\n",
      "/kaggle/input/candidate-rerank-model-lb-0-573/top_40_clicks_v1_2.pkl\n",
      "/kaggle/input/candidate-rerank-model-lb-0-573/submission.csv\n",
      "/kaggle/input/candidate-rerank-model-lb-0-573/top_40_carts_orders_v1_0.pkl\n",
      "/kaggle/input/candidate-rerank-model-lb-0-573/top_40_clicks_v1_3.pkl\n",
      "/kaggle/input/candidate-rerank-model-lb-0-573/top_40_carts_orders_v1_3.pkl\n",
      "/kaggle/input/candidate-rerank-model-lb-0-573/__notebook__.ipynb\n",
      "/kaggle/input/candidate-rerank-model-lb-0-573/__output__.json\n",
      "/kaggle/input/candidate-rerank-model-lb-0-573/top_40_carts_orders_v1_1.pkl\n",
      "/kaggle/input/candidate-rerank-model-lb-0-573/custom.css\n",
      "/kaggle/input/otto-blend-submissions/submission_573.csv\n",
      "/kaggle/input/otto-blend-submissions/submission_574_original.csv\n",
      "/kaggle/input/otto-blend-submissions/submission_574.csv\n",
      "/kaggle/input/otto-blend-submissions/submission_557.csv\n",
      "/kaggle/input/otto-blend-submissions/submission_572.csv\n",
      "/kaggle/input/otto-recbole-fold-11-to-13/submission_fold_11.csv\n",
      "/kaggle/input/otto-recbole-fold-11-to-13/submission_fold_13.csv\n",
      "/kaggle/input/otto-recbole-fold-11-to-13/submission_fold_12.csv\n",
      "/kaggle/input/otto-recbole-submission-folds-1223/submission_fold6.csv\n",
      "/kaggle/input/otto-recbole-submission-folds-1223/submission_fold5.csv\n",
      "/kaggle/input/otto-recbole-submission-folds-1223/submission_fold7.csv\n",
      "/kaggle/input/otto-submissions-1126/submission_576_minor.csv\n",
      "/kaggle/input/otto-submissions-1126/submission_573_minor.csv\n",
      "/kaggle/input/otto-submissions-1126/submission_574_minor.csv\n",
      "/kaggle/input/otto-submissions-1126/submission_575_minor.csv\n",
      "/kaggle/input/otto-submissions-1126/submission_523.csv\n",
      "/kaggle/input/otto-pipeline2-lb-0-576/top_20_clicks_v6_3.pqt\n",
      "/kaggle/input/otto-pipeline2-lb-0-576/top_20_clicks_v6_0.pqt\n",
      "/kaggle/input/otto-pipeline2-lb-0-576/top_20_clicks_v6_2.pqt\n",
      "/kaggle/input/otto-pipeline2-lb-0-576/top_15_buy2buy_v6_0.pqt\n",
      "/kaggle/input/otto-pipeline2-lb-0-576/__results__.html\n",
      "/kaggle/input/otto-pipeline2-lb-0-576/top_20_clicks_v6_1.pqt\n",
      "/kaggle/input/otto-pipeline2-lb-0-576/top_15_carts_orders_v6_0.pqt\n",
      "/kaggle/input/otto-pipeline2-lb-0-576/submission.csv\n",
      "/kaggle/input/otto-pipeline2-lb-0-576/__notebook__.ipynb\n",
      "/kaggle/input/otto-pipeline2-lb-0-576/__output__.json\n",
      "/kaggle/input/otto-pipeline2-lb-0-576/top_15_carts_orders_v6_1.pqt\n",
      "/kaggle/input/otto-pipeline2-lb-0-576/top_15_carts_orders_v6_2.pqt\n",
      "/kaggle/input/otto-pipeline2-lb-0-576/top_15_carts_orders_v6_3.pqt\n",
      "/kaggle/input/otto-pipeline2-lb-0-576/custom.css\n",
      "/kaggle/input/otto-tuning-pipeline2-lb-0-577/top_20_clicks_v7_3.pqt\n",
      "/kaggle/input/otto-tuning-pipeline2-lb-0-577/top_15_carts_orders_v7_3.pqt\n",
      "/kaggle/input/otto-tuning-pipeline2-lb-0-577/__results__.html\n",
      "/kaggle/input/otto-tuning-pipeline2-lb-0-577/top_20_clicks_v7_2.pqt\n",
      "/kaggle/input/otto-tuning-pipeline2-lb-0-577/top_15_buy2buy_v7_0.pqt\n",
      "/kaggle/input/otto-tuning-pipeline2-lb-0-577/top_15_carts_orders_v7_1.pqt\n",
      "/kaggle/input/otto-tuning-pipeline2-lb-0-577/top_20_clicks_v7_0.pqt\n",
      "/kaggle/input/otto-tuning-pipeline2-lb-0-577/submission.csv\n",
      "/kaggle/input/otto-tuning-pipeline2-lb-0-577/top_15_carts_orders_v7_0.pqt\n",
      "/kaggle/input/otto-tuning-pipeline2-lb-0-577/__notebook__.ipynb\n",
      "/kaggle/input/otto-tuning-pipeline2-lb-0-577/__output__.json\n",
      "/kaggle/input/otto-tuning-pipeline2-lb-0-577/top_20_clicks_v7_1.pqt\n",
      "/kaggle/input/otto-tuning-pipeline2-lb-0-577/custom.css\n",
      "/kaggle/input/otto-tuning-pipeline2-lb-0-577/top_15_carts_orders_v7_2.pqt\n",
      "/kaggle/input/otto-recbole-submissions/1220_submission.csv\n",
      "/kaggle/input/otto-recbole-submissions/1219_submission.csv\n",
      "/kaggle/input/otto-submissions-recbole-221222/submission_fold2.csv\n",
      "/kaggle/input/otto-submissions-recbole-221222/submission_fold4.csv\n",
      "/kaggle/input/otto-submissions-recbole-221222/submission_fold3.csv\n",
      "/kaggle/input/matrix-factorization-pytorch-merlin-dataloader/train_pairs.parquet\n",
      "/kaggle/input/matrix-factorization-pytorch-merlin-dataloader/__results__.html\n",
      "/kaggle/input/matrix-factorization-pytorch-merlin-dataloader/submission.csv\n",
      "/kaggle/input/matrix-factorization-pytorch-merlin-dataloader/__notebook__.ipynb\n",
      "/kaggle/input/matrix-factorization-pytorch-merlin-dataloader/__output__.json\n",
      "/kaggle/input/matrix-factorization-pytorch-merlin-dataloader/valid_pairs.parquet\n",
      "/kaggle/input/matrix-factorization-pytorch-merlin-dataloader/custom.css\n",
      "/kaggle/input/otto-submissions-1123/submission_565.csv\n",
      "/kaggle/input/otto-submissions-1123/submission_563.csv\n",
      "/kaggle/input/otto-recommender-system/sample_submission.csv\n",
      "/kaggle/input/otto-recommender-system/test.jsonl\n",
      "/kaggle/input/otto-recommender-system/train.jsonl\n",
      "/kaggle/input/train-submit-word2vec-optimized-hyparams/__results__.html\n",
      "/kaggle/input/train-submit-word2vec-optimized-hyparams/submission.csv\n",
      "/kaggle/input/train-submit-word2vec-optimized-hyparams/__notebook__.ipynb\n",
      "/kaggle/input/train-submit-word2vec-optimized-hyparams/__output__.json\n",
      "/kaggle/input/train-submit-word2vec-optimized-hyparams/custom.css\n",
      "/kaggle/input/recbole-gru4rec-sample-code/__results__.html\n",
      "/kaggle/input/recbole-gru4rec-sample-code/submission.csv\n",
      "/kaggle/input/recbole-gru4rec-sample-code/__notebook__.ipynb\n",
      "/kaggle/input/recbole-gru4rec-sample-code/__output__.json\n",
      "/kaggle/input/recbole-gru4rec-sample-code/custom.css\n",
      "/kaggle/input/recbole-gru4rec-sample-code/log_tensorboard/kaggle/events.out.tfevents.1671196911.80d0b818168a.23.0\n",
      "/kaggle/input/recbole-gru4rec-sample-code/log_tensorboard/kaggle/1671201589.2484756/events.out.tfevents.1671201589.80d0b818168a.23.1\n",
      "/kaggle/input/recbole-gru4rec-sample-code/log/GRU4Rec/GRU4Rec-recbox_data-Dec-16-2022_13-17-21-717cf7.log\n",
      "/kaggle/input/recbole-gru4rec-sample-code/saved/GRU4Rec-Dec-16-2022_13-21-51.pth\n",
      "/kaggle/input/recbole-gru4rec-sample-code/recbox_data/recbox_data.inter\n",
      "/kaggle/input/code-explation-of-0-570-notebook/__results__.html\n",
      "/kaggle/input/code-explation-of-0-570-notebook/submission.csv\n",
      "/kaggle/input/code-explation-of-0-570-notebook/__notebook__.ipynb\n",
      "/kaggle/input/code-explation-of-0-570-notebook/__output__.json\n",
      "/kaggle/input/code-explation-of-0-570-notebook/custom.css\n",
      "/kaggle/input/otto-submissions-1117/submission_574.csv\n"
     ]
    }
   ],
   "source": [
    "# This Python 3 environment comes with many helpful analytics libraries installed\n",
    "# It is defined by the kaggle/python Docker image: https://github.com/kaggle/docker-python\n",
    "# For example, here's several helpful packages to load\n",
    "\n",
    "import numpy as np # linear algebra\n",
    "import pandas as pd # data processing, CSV file I/O (e.g. pd.read_csv)\n",
    "\n",
    "# Input data files are available in the read-only \"../input/\" directory\n",
    "# For example, running this (by clicking run or pressing Shift+Enter) will list all files under the input directory\n",
    "\n",
    "import os\n",
    "for dirname, _, filenames in os.walk('/kaggle/input'):\n",
    "    for filename in filenames:\n",
    "        print(os.path.join(dirname, filename))\n",
    "\n",
    "# You can write up to 20GB to the current directory (/kaggle/working/) that gets preserved as output when you create a version using \"Save & Run All\" \n",
    "# You can also write temporary files to /kaggle/temp/, but they won't be saved outside of the current session"
   ]
  },
  {
   "cell_type": "code",
   "execution_count": 2,
   "id": "b11fbf5f",
   "metadata": {
    "execution": {
     "iopub.execute_input": "2023-01-07T08:55:39.552060Z",
     "iopub.status.busy": "2023-01-07T08:55:39.551666Z",
     "iopub.status.idle": "2023-01-07T08:55:39.560287Z",
     "shell.execute_reply": "2023-01-07T08:55:39.559432Z"
    },
    "papermill": {
     "duration": 0.015835,
     "end_time": "2023-01-07T08:55:39.562353",
     "exception": false,
     "start_time": "2023-01-07T08:55:39.546518",
     "status": "completed"
    },
    "tags": []
   },
   "outputs": [],
   "source": [
    "def blend(dt, w=[], k=20):\n",
    "    if len(w) == 0:\n",
    "        w = [1] * (len(dt))\n",
    "    preds = []\n",
    "    for i in range(len(w)):\n",
    "        preds.append(dt[i].split())\n",
    "    res = {}\n",
    "    for i in range(len(preds)):\n",
    "        if w[i] < 0:\n",
    "            continue\n",
    "        for n, v in enumerate(preds[i]):\n",
    "            if v in res:\n",
    "                res[v] += (w[i] / (n + 1))\n",
    "            else:\n",
    "                res[v] = (w[i] / (n + 1))    \n",
    "    res = list(dict(sorted(res.items(), key=lambda item: -item[1])).keys())\n",
    "    return ' '.join(res[:k])"
   ]
  },
  {
   "cell_type": "code",
   "execution_count": 3,
   "id": "d97bd9b5",
   "metadata": {
    "execution": {
     "iopub.execute_input": "2023-01-07T08:55:39.572426Z",
     "iopub.status.busy": "2023-01-07T08:55:39.571731Z",
     "iopub.status.idle": "2023-01-07T09:02:14.838052Z",
     "shell.execute_reply": "2023-01-07T09:02:14.834810Z"
    },
    "papermill": {
     "duration": 395.278659,
     "end_time": "2023-01-07T09:02:14.845040",
     "exception": false,
     "start_time": "2023-01-07T08:55:39.566381",
     "status": "completed"
    },
    "tags": []
   },
   "outputs": [],
   "source": [
    "sub0 = pd.read_csv(\"../input/otto-blend-submissions/submission_574_original.csv\")\n",
    "sub1 = pd.read_csv(\"../input/otto-blend-submissions/submission_573.csv\")\n",
    "sub2 = pd.read_csv(\"../input/otto-blend-submissions/submission_574.csv\")\n",
    "sub3 = pd.read_csv(\"../input/otto-blend-submissions/submission_572.csv\")\n",
    "sub4 = pd.read_csv(\"../input/otto-blend-submissions/submission_557.csv\")\n",
    "sub5 = pd.read_csv(\"../input/code-explation-of-0-570-notebook/submission.csv\")\n",
    "sub6 = pd.read_csv(\"../input/otto-candidate-submissions-1114/submission_569.csv\")\n",
    "sub7 = pd.read_csv(\"../input/otto-candidate-submissions-1114/submission_575.csv\")\n",
    "\n",
    "\n",
    "sub8 = pd.read_csv(\"../input/otto-submissions-1117/submission_574.csv\")\n",
    "sub9 = pd.read_csv(\"../input/matrix-factorization-pytorch-merlin-dataloader/submission.csv\")\n",
    "sub10 = pd.read_csv(\"../input/otto-submissions-1123/submission_563.csv\")\n",
    "sub11 = pd.read_csv(\"../input/otto-submissions-1123/submission_565.csv\")\n",
    "sub12 = pd.read_csv(\"/kaggle/input/otto-submissions-1126/submission_523.csv\")\n",
    "sub13 = pd.read_csv(\"/kaggle/input/otto-submissions-1126/submission_573_minor.csv\")\n",
    "sub14 = pd.read_csv(\"/kaggle/input/otto-submissions-1126/submission_574_minor.csv\")\n",
    "sub15 = pd.read_csv(\"/kaggle/input/otto-submissions-1126/submission_575_minor.csv\")\n",
    "sub16 = pd.read_csv(\"/kaggle/input/otto-submissions-1126/submission_576_minor.csv\")"
   ]
  },
  {
   "cell_type": "code",
   "execution_count": 4,
   "id": "0290a698",
   "metadata": {
    "execution": {
     "iopub.execute_input": "2023-01-07T09:02:14.860864Z",
     "iopub.status.busy": "2023-01-07T09:02:14.859728Z",
     "iopub.status.idle": "2023-01-07T09:02:34.360834Z",
     "shell.execute_reply": "2023-01-07T09:02:34.359569Z"
    },
    "papermill": {
     "duration": 19.512418,
     "end_time": "2023-01-07T09:02:34.364573",
     "exception": false,
     "start_time": "2023-01-07T09:02:14.852155",
     "status": "completed"
    },
    "tags": []
   },
   "outputs": [
    {
     "data": {
      "text/plain": [
       "49"
      ]
     },
     "execution_count": 4,
     "metadata": {},
     "output_type": "execute_result"
    }
   ],
   "source": [
    "sub0['sub0'] = sub0['labels'].fillna(\"\")\n",
    "sub0['sub1'] = sub1['labels'].fillna(\"\")\n",
    "sub0['sub2'] = sub2['labels'].fillna(\"\")\n",
    "sub0['sub3'] = sub3['labels'].fillna(\"\")\n",
    "sub0['sub4'] = sub4['labels'].fillna(\"\")\n",
    "sub0['sub5'] = sub5['labels'].fillna(\"\")\n",
    "sub0['sub6'] = sub6['labels'].fillna(\"\")\n",
    "sub0['sub7'] = sub7['labels'].fillna(\"\")\n",
    "del sub1, sub2, sub3, sub4, sub5, sub6, sub7\n",
    "\n",
    "sub8['sub0'] = sub8['labels'].fillna(\"\")\n",
    "sub8['sub1'] = sub9['labels'].fillna(\"\")\n",
    "sub8['sub2'] = sub10['labels'].fillna(\"\")\n",
    "sub8['sub3'] = sub11['labels'].fillna(\"\")\n",
    "sub8['sub4'] = sub12['labels'].fillna(\"\")\n",
    "del sub9, sub10, sub11\n",
    "\n",
    "sub13['sub0'] = sub13['labels'].fillna(\"\")\n",
    "sub13['sub1'] = sub14['labels'].fillna(\"\")\n",
    "sub13['sub2'] = sub15['labels'].fillna(\"\")\n",
    "sub13['sub3'] = sub16['labels'].fillna(\"\")\n",
    "del sub14, sub15, sub16\n",
    "\n",
    "import gc\n",
    "gc.collect()"
   ]
  },
  {
   "cell_type": "code",
   "execution_count": 5,
   "id": "68c86710",
   "metadata": {
    "execution": {
     "iopub.execute_input": "2023-01-07T09:02:34.374675Z",
     "iopub.status.busy": "2023-01-07T09:02:34.374259Z",
     "iopub.status.idle": "2023-01-07T09:02:34.397312Z",
     "shell.execute_reply": "2023-01-07T09:02:34.396374Z"
    },
    "papermill": {
     "duration": 0.03107,
     "end_time": "2023-01-07T09:02:34.399866",
     "exception": false,
     "start_time": "2023-01-07T09:02:34.368796",
     "status": "completed"
    },
    "tags": []
   },
   "outputs": [
    {
     "data": {
      "text/html": [
       "<div>\n",
       "<style scoped>\n",
       "    .dataframe tbody tr th:only-of-type {\n",
       "        vertical-align: middle;\n",
       "    }\n",
       "\n",
       "    .dataframe tbody tr th {\n",
       "        vertical-align: top;\n",
       "    }\n",
       "\n",
       "    .dataframe thead th {\n",
       "        text-align: right;\n",
       "    }\n",
       "</style>\n",
       "<table border=\"1\" class=\"dataframe\">\n",
       "  <thead>\n",
       "    <tr style=\"text-align: right;\">\n",
       "      <th></th>\n",
       "      <th>session_type</th>\n",
       "      <th>labels</th>\n",
       "      <th>sub0</th>\n",
       "      <th>sub1</th>\n",
       "      <th>sub2</th>\n",
       "      <th>sub3</th>\n",
       "      <th>sub4</th>\n",
       "      <th>sub5</th>\n",
       "      <th>sub6</th>\n",
       "      <th>sub7</th>\n",
       "    </tr>\n",
       "  </thead>\n",
       "  <tbody>\n",
       "    <tr>\n",
       "      <th>0</th>\n",
       "      <td>12899779_clicks</td>\n",
       "      <td>59625 1253524 737445 438191 731692 1790770 166...</td>\n",
       "      <td>59625 1253524 737445 438191 731692 1790770 166...</td>\n",
       "      <td>59625 1253524 737445 438191 731692 1790770 942...</td>\n",
       "      <td>59625 1253524 737445 438191 731692 1790770 166...</td>\n",
       "      <td>59625 1253524 737445 438191 731692 1790770 942...</td>\n",
       "      <td>59625 1253524 737445 438191 731692 1790770 942...</td>\n",
       "      <td>59625 1253524 737445 438191 731692 1790770 942...</td>\n",
       "      <td>59625 894169 737445 1246235 499621 469285 9415...</td>\n",
       "      <td>59625 1253524 737445 438191 731692 1790770 942...</td>\n",
       "    </tr>\n",
       "    <tr>\n",
       "      <th>1</th>\n",
       "      <td>12899780_clicks</td>\n",
       "      <td>1142000 736515 973453 582732 1502122 889686 48...</td>\n",
       "      <td>1142000 736515 973453 582732 1502122 889686 48...</td>\n",
       "      <td>1142000 736515 973453 582732 1502122 487136 88...</td>\n",
       "      <td>1142000 736515 973453 582732 1502122 889686 48...</td>\n",
       "      <td>1142000 736515 973453 582732 1502122 487136 88...</td>\n",
       "      <td>1142000 736515 973453 582732 1502122 487136 88...</td>\n",
       "      <td>1142000 736515 973453 582732 1502122 889686 48...</td>\n",
       "      <td>1142000 736515 973453 582732 889686 487136 151...</td>\n",
       "      <td>1142000 736515 973453 582732 1502122 889686 48...</td>\n",
       "    </tr>\n",
       "    <tr>\n",
       "      <th>2</th>\n",
       "      <td>12899781_clicks</td>\n",
       "      <td>918667 199008 194067 57315 141736 1460571 7594...</td>\n",
       "      <td>918667 199008 194067 57315 141736 1460571 7594...</td>\n",
       "      <td>918667 199008 194067 57315 141736 1460571 3317...</td>\n",
       "      <td>918667 199008 194067 57315 141736 1460571 7594...</td>\n",
       "      <td>918667 199008 194067 57315 141736 1460571 1853...</td>\n",
       "      <td>918667 199008 194067 57315 141736 1460571 3317...</td>\n",
       "      <td>918667 199008 194067 57315 141736 1460571 3317...</td>\n",
       "      <td>918667 199008 194067 57315 141736 759436 75441...</td>\n",
       "      <td>918667 199008 194067 57315 141736 1460571 7594...</td>\n",
       "    </tr>\n",
       "  </tbody>\n",
       "</table>\n",
       "</div>"
      ],
      "text/plain": [
       "      session_type                                             labels  \\\n",
       "0  12899779_clicks  59625 1253524 737445 438191 731692 1790770 166...   \n",
       "1  12899780_clicks  1142000 736515 973453 582732 1502122 889686 48...   \n",
       "2  12899781_clicks  918667 199008 194067 57315 141736 1460571 7594...   \n",
       "\n",
       "                                                sub0  \\\n",
       "0  59625 1253524 737445 438191 731692 1790770 166...   \n",
       "1  1142000 736515 973453 582732 1502122 889686 48...   \n",
       "2  918667 199008 194067 57315 141736 1460571 7594...   \n",
       "\n",
       "                                                sub1  \\\n",
       "0  59625 1253524 737445 438191 731692 1790770 942...   \n",
       "1  1142000 736515 973453 582732 1502122 487136 88...   \n",
       "2  918667 199008 194067 57315 141736 1460571 3317...   \n",
       "\n",
       "                                                sub2  \\\n",
       "0  59625 1253524 737445 438191 731692 1790770 166...   \n",
       "1  1142000 736515 973453 582732 1502122 889686 48...   \n",
       "2  918667 199008 194067 57315 141736 1460571 7594...   \n",
       "\n",
       "                                                sub3  \\\n",
       "0  59625 1253524 737445 438191 731692 1790770 942...   \n",
       "1  1142000 736515 973453 582732 1502122 487136 88...   \n",
       "2  918667 199008 194067 57315 141736 1460571 1853...   \n",
       "\n",
       "                                                sub4  \\\n",
       "0  59625 1253524 737445 438191 731692 1790770 942...   \n",
       "1  1142000 736515 973453 582732 1502122 487136 88...   \n",
       "2  918667 199008 194067 57315 141736 1460571 3317...   \n",
       "\n",
       "                                                sub5  \\\n",
       "0  59625 1253524 737445 438191 731692 1790770 942...   \n",
       "1  1142000 736515 973453 582732 1502122 889686 48...   \n",
       "2  918667 199008 194067 57315 141736 1460571 3317...   \n",
       "\n",
       "                                                sub6  \\\n",
       "0  59625 894169 737445 1246235 499621 469285 9415...   \n",
       "1  1142000 736515 973453 582732 889686 487136 151...   \n",
       "2  918667 199008 194067 57315 141736 759436 75441...   \n",
       "\n",
       "                                                sub7  \n",
       "0  59625 1253524 737445 438191 731692 1790770 942...  \n",
       "1  1142000 736515 973453 582732 1502122 889686 48...  \n",
       "2  918667 199008 194067 57315 141736 1460571 7594...  "
      ]
     },
     "execution_count": 5,
     "metadata": {},
     "output_type": "execute_result"
    }
   ],
   "source": [
    "sub0.head(3)"
   ]
  },
  {
   "cell_type": "code",
   "execution_count": 6,
   "id": "143809b3",
   "metadata": {
    "execution": {
     "iopub.execute_input": "2023-01-07T09:02:34.412323Z",
     "iopub.status.busy": "2023-01-07T09:02:34.411588Z",
     "iopub.status.idle": "2023-01-07T09:09:00.680249Z",
     "shell.execute_reply": "2023-01-07T09:09:00.679061Z"
    },
    "papermill": {
     "duration": 386.282356,
     "end_time": "2023-01-07T09:09:00.687335",
     "exception": false,
     "start_time": "2023-01-07T09:02:34.404979",
     "status": "completed"
    },
    "tags": []
   },
   "outputs": [
    {
     "data": {
      "text/plain": [
       "0"
      ]
     },
     "execution_count": 6,
     "metadata": {},
     "output_type": "execute_result"
    }
   ],
   "source": [
    "weights = [1.5, 0.1, 0.7, 0.85, 0.5]\n",
    "targets = [f'sub{i}' for i in range(len(weights))]\n",
    "sub8['labels'] = sub8[targets].apply(blend, w=weights, axis=1, k=12)\n",
    "\n",
    "sub0['sub8'] = sub8['labels'].fillna(\"\")\n",
    "del sub8\n",
    "gc.collect()"
   ]
  },
  {
   "cell_type": "code",
   "execution_count": 7,
   "id": "d2423f09",
   "metadata": {
    "execution": {
     "iopub.execute_input": "2023-01-07T09:09:00.698381Z",
     "iopub.status.busy": "2023-01-07T09:09:00.697923Z",
     "iopub.status.idle": "2023-01-07T09:13:48.809806Z",
     "shell.execute_reply": "2023-01-07T09:13:48.808404Z"
    },
    "papermill": {
     "duration": 288.125756,
     "end_time": "2023-01-07T09:13:48.817714",
     "exception": false,
     "start_time": "2023-01-07T09:09:00.691958",
     "status": "completed"
    },
    "tags": []
   },
   "outputs": [
    {
     "data": {
      "text/plain": [
       "21"
      ]
     },
     "execution_count": 7,
     "metadata": {},
     "output_type": "execute_result"
    }
   ],
   "source": [
    "# weights = [0.5, 0.7, 0.8, 0.9]\n",
    "weights = [0.5, 0.5, 0.5, 0.5]\n",
    "targets = [f'sub{i}' for i in range(len(weights))]\n",
    "sub13['labels'] = sub13[targets].apply(blend, w=weights, axis=1, k=12)\n",
    "\n",
    "sub0['sub9'] = sub13['labels'].fillna(\"\")\n",
    "del sub13\n",
    "gc.collect()"
   ]
  },
  {
   "cell_type": "code",
   "execution_count": 8,
   "id": "00f5d6d8",
   "metadata": {
    "execution": {
     "iopub.execute_input": "2023-01-07T09:13:48.829144Z",
     "iopub.status.busy": "2023-01-07T09:13:48.828727Z",
     "iopub.status.idle": "2023-01-07T09:18:12.404224Z",
     "shell.execute_reply": "2023-01-07T09:18:12.403058Z"
    },
    "papermill": {
     "duration": 263.588655,
     "end_time": "2023-01-07T09:18:12.411240",
     "exception": false,
     "start_time": "2023-01-07T09:13:48.822585",
     "status": "completed"
    },
    "tags": []
   },
   "outputs": [
    {
     "data": {
      "text/plain": [
       "0"
      ]
     },
     "execution_count": 8,
     "metadata": {},
     "output_type": "execute_result"
    }
   ],
   "source": [
    "sub17 = pd.read_csv(\"/kaggle/input/otto-pipeline2-lb-0-576/submission.csv\")\n",
    "sub18 = pd.read_csv(\"/kaggle/input/recbole-gru4rec-sample-code/submission.csv\")\n",
    "sub19 = pd.read_csv(\"/kaggle/input/otto-recbole-submissions/1219_submission.csv\")\n",
    "sub20 = pd.read_csv(\"/kaggle/input/otto-recbole-submissions/1220_submission.csv\")\n",
    "sub21 = pd.read_csv(\"/kaggle/input/otto-submissions-recbole-221222/submission_fold2.csv\")\n",
    "sub22 = pd.read_csv(\"/kaggle/input/otto-submissions-recbole-221222/submission_fold3.csv\")\n",
    "sub23 = pd.read_csv(\"/kaggle/input/otto-submissions-recbole-221222/submission_fold4.csv\")\n",
    "sub24 = pd.read_csv(\"/kaggle/input/otto-recbole-submission-folds-1223/submission_fold5.csv\")\n",
    "sub25 = pd.read_csv(\"/kaggle/input/otto-recbole-submission-folds-1223/submission_fold6.csv\")\n",
    "sub26 = pd.read_csv(\"/kaggle/input/otto-recbole-submission-folds-1223/submission_fold7.csv\")\n",
    "sub27 = pd.read_csv(\"/kaggle/input/otto-tuning-pipeline2-lb-0-577/submission.csv\")\n",
    "sub28 = pd.read_csv(\"/kaggle/input/train-submit-word2vec-optimized-hyparams/submission.csv\")\n",
    "\n",
    "sub0['sub10'] = sub17['labels'].fillna(\"\")\n",
    "sub0['sub11'] = sub18['labels'].fillna(\"\")\n",
    "sub0['sub12'] = sub19['labels'].fillna(\"\")\n",
    "sub0['sub13'] = sub20['labels'].fillna(\"\")\n",
    "sub0['sub14'] = sub21['labels'].fillna(\"\")\n",
    "sub0['sub15'] = sub22['labels'].fillna(\"\")\n",
    "sub0['sub16'] = sub23['labels'].fillna(\"\")\n",
    "sub0['sub17'] = sub24['labels'].fillna(\"\")\n",
    "sub0['sub18'] = sub25['labels'].fillna(\"\")\n",
    "sub0['sub19'] = sub26['labels'].fillna(\"\")\n",
    "sub0['sub20'] = sub27['labels'].fillna(\"\")\n",
    "sub0['sub21'] = sub28['labels'].fillna(\"\")\n",
    "\n",
    "del sub17, sub18, sub19, sub20, sub21, sub22, sub23, sub24, sub25, sub26, sub27, sub28\n",
    "gc.collect()"
   ]
  },
  {
   "cell_type": "code",
   "execution_count": 9,
   "id": "8acd8fd8",
   "metadata": {
    "execution": {
     "iopub.execute_input": "2023-01-07T09:18:12.423151Z",
     "iopub.status.busy": "2023-01-07T09:18:12.422678Z",
     "iopub.status.idle": "2023-01-07T09:27:19.425354Z",
     "shell.execute_reply": "2023-01-07T09:27:19.424083Z"
    },
    "papermill": {
     "duration": 547.016831,
     "end_time": "2023-01-07T09:27:19.433045",
     "exception": false,
     "start_time": "2023-01-07T09:18:12.416214",
     "status": "completed"
    },
    "tags": []
   },
   "outputs": [
    {
     "data": {
      "text/plain": [
       "0"
      ]
     },
     "execution_count": 9,
     "metadata": {},
     "output_type": "execute_result"
    }
   ],
   "source": [
    "sub_recbole1 = pd.read_csv(\"/kaggle/input/otto-submissions-recbole-fold-8-to-10/submission_fold8.csv\")\n",
    "sub_recbole2 = pd.read_csv(\"/kaggle/input/otto-submissions-recbole-fold-8-to-10/submission_fold9.csv\")\n",
    "sub_recbole3 = pd.read_csv(\"/kaggle/input/otto-submissions-recbole-fold-8-to-10/submission_fold10.csv\")\n",
    "sub_recbole4 = pd.read_csv(\"/kaggle/input/otto-recbole-fold-11-to-13/submission_fold_11.csv\")\n",
    "sub_recbole5 = pd.read_csv(\"/kaggle/input/otto-recbole-fold-11-to-13/submission_fold_12.csv\")\n",
    "sub_recbole6 = pd.read_csv(\"/kaggle/input/otto-recbole-fold-11-to-13/submission_fold_13.csv\")\n",
    "\n",
    "sub_recbole1['sub0'] = sub_recbole1['labels'].fillna(\"\")\n",
    "sub_recbole1['sub1'] = sub_recbole2['labels'].fillna(\"\")\n",
    "sub_recbole1['sub2'] = sub_recbole3['labels'].fillna(\"\")\n",
    "sub_recbole1['sub3'] = sub_recbole4['labels'].fillna(\"\")\n",
    "sub_recbole1['sub4'] = sub_recbole5['labels'].fillna(\"\")\n",
    "sub_recbole1['sub5'] = sub_recbole6['labels'].fillna(\"\")\n",
    "\n",
    "del sub_recbole2, sub_recbole3, sub_recbole4, sub_recbole5, sub_recbole6\n",
    "gc.collect()\n",
    "\n",
    "weights = [0.5, 0.5, 0.5, 0.5, 0.5, 0.5]\n",
    "targets = [f'sub{i}' for i in range(len(weights))]\n",
    "sub_recbole1['labels'] = sub_recbole1[targets].apply(blend, w=weights, axis=1, k=20)\n",
    "\n",
    "sub0['sub22'] = sub_recbole1['labels'].fillna(\"\")\n",
    "del sub_recbole1\n",
    "gc.collect()"
   ]
  },
  {
   "cell_type": "code",
   "execution_count": 10,
   "id": "481745da",
   "metadata": {
    "execution": {
     "iopub.execute_input": "2023-01-07T09:27:19.445279Z",
     "iopub.status.busy": "2023-01-07T09:27:19.444528Z",
     "iopub.status.idle": "2023-01-07T09:49:04.577664Z",
     "shell.execute_reply": "2023-01-07T09:49:04.576541Z"
    },
    "papermill": {
     "duration": 1305.14277,
     "end_time": "2023-01-07T09:49:04.580684",
     "exception": false,
     "start_time": "2023-01-07T09:27:19.437914",
     "status": "completed"
    },
    "tags": []
   },
   "outputs": [],
   "source": [
    "# weights = [1.5, 1.0, 0.4, 0.8, 0.5, 0.7, 0.5, 1.75, 1.0, 1.4, 1.6]\n",
    "# weights = [1.6, 1.0, 0.4, 0.8, 0.5, 0.7, 0.5, 2.3, 0.05]\n",
    "weights = [1.6, 1.0, 0.4, 0.8, 0.5, 0.7, 0.5, 2.25, 1.5, 1.5, 2.0, 1.6, 1.7, 1.75, 1.7, 1.7, 1.7, 1.7, 1.7, 1.6, 2.3, 1.4, 1.7]\n",
    "targets = [f'sub{i}' for i in range(len(weights))]\n",
    "sub0['labels'] = sub0[targets].apply(blend, w=weights, axis=1, k=20)"
   ]
  },
  {
   "cell_type": "code",
   "execution_count": 11,
   "id": "6f665145",
   "metadata": {
    "execution": {
     "iopub.execute_input": "2023-01-07T09:49:04.593326Z",
     "iopub.status.busy": "2023-01-07T09:49:04.592310Z",
     "iopub.status.idle": "2023-01-07T09:49:04.596721Z",
     "shell.execute_reply": "2023-01-07T09:49:04.595890Z"
    },
    "papermill": {
     "duration": 0.012598,
     "end_time": "2023-01-07T09:49:04.598750",
     "exception": false,
     "start_time": "2023-01-07T09:49:04.586152",
     "status": "completed"
    },
    "tags": []
   },
   "outputs": [],
   "source": [
    "# sub1 = pd.read_csv(\"../input/otto-blend-submissions/submission_573.csv\")\n",
    "# sub2 = pd.read_csv(\"../input/otto-blend-submissions/submission_574.csv\")\n",
    "# sub3 = pd.read_csv(\"../input/otto-blend-submissions/submission_572.csv\")\n",
    "# sub7 = pd.read_csv(\"../input/otto-candidate-submissions-1114/submission_575.csv\")"
   ]
  },
  {
   "cell_type": "code",
   "execution_count": 12,
   "id": "3110aec6",
   "metadata": {
    "execution": {
     "iopub.execute_input": "2023-01-07T09:49:04.610919Z",
     "iopub.status.busy": "2023-01-07T09:49:04.610286Z",
     "iopub.status.idle": "2023-01-07T09:49:04.848505Z",
     "shell.execute_reply": "2023-01-07T09:49:04.847061Z"
    },
    "papermill": {
     "duration": 0.247539,
     "end_time": "2023-01-07T09:49:04.851351",
     "exception": false,
     "start_time": "2023-01-07T09:49:04.603812",
     "status": "completed"
    },
    "tags": []
   },
   "outputs": [],
   "source": [
    "sub = sub0[['session_type', 'labels']]"
   ]
  },
  {
   "cell_type": "code",
   "execution_count": 13,
   "id": "d83a451d",
   "metadata": {
    "execution": {
     "iopub.execute_input": "2023-01-07T09:49:04.864710Z",
     "iopub.status.busy": "2023-01-07T09:49:04.863440Z",
     "iopub.status.idle": "2023-01-07T09:49:25.414577Z",
     "shell.execute_reply": "2023-01-07T09:49:25.413688Z"
    },
    "papermill": {
     "duration": 20.560341,
     "end_time": "2023-01-07T09:49:25.417100",
     "exception": false,
     "start_time": "2023-01-07T09:49:04.856759",
     "status": "completed"
    },
    "tags": []
   },
   "outputs": [
    {
     "data": {
      "text/html": [
       "<div>\n",
       "<style scoped>\n",
       "    .dataframe tbody tr th:only-of-type {\n",
       "        vertical-align: middle;\n",
       "    }\n",
       "\n",
       "    .dataframe tbody tr th {\n",
       "        vertical-align: top;\n",
       "    }\n",
       "\n",
       "    .dataframe thead th {\n",
       "        text-align: right;\n",
       "    }\n",
       "</style>\n",
       "<table border=\"1\" class=\"dataframe\">\n",
       "  <thead>\n",
       "    <tr style=\"text-align: right;\">\n",
       "      <th></th>\n",
       "      <th>session_type</th>\n",
       "      <th>labels</th>\n",
       "    </tr>\n",
       "  </thead>\n",
       "  <tbody>\n",
       "    <tr>\n",
       "      <th>0</th>\n",
       "      <td>12899779_clicks</td>\n",
       "      <td>59625 1253524 737445 438191 731692 1790770 942...</td>\n",
       "    </tr>\n",
       "    <tr>\n",
       "      <th>1</th>\n",
       "      <td>12899780_clicks</td>\n",
       "      <td>1142000 736515 582732 973453 889686 487136 150...</td>\n",
       "    </tr>\n",
       "    <tr>\n",
       "      <th>2</th>\n",
       "      <td>12899781_clicks</td>\n",
       "      <td>918667 141736 199008 194067 57315 528496 14605...</td>\n",
       "    </tr>\n",
       "    <tr>\n",
       "      <th>3</th>\n",
       "      <td>12899782_clicks</td>\n",
       "      <td>834354 595994 740494 889671 987399 779477 1344...</td>\n",
       "    </tr>\n",
       "    <tr>\n",
       "      <th>4</th>\n",
       "      <td>12899783_clicks</td>\n",
       "      <td>1817895 255297 607638 1114789 300127 1754419 1...</td>\n",
       "    </tr>\n",
       "  </tbody>\n",
       "</table>\n",
       "</div>"
      ],
      "text/plain": [
       "      session_type                                             labels\n",
       "0  12899779_clicks  59625 1253524 737445 438191 731692 1790770 942...\n",
       "1  12899780_clicks  1142000 736515 582732 973453 889686 487136 150...\n",
       "2  12899781_clicks  918667 141736 199008 194067 57315 528496 14605...\n",
       "3  12899782_clicks  834354 595994 740494 889671 987399 779477 1344...\n",
       "4  12899783_clicks  1817895 255297 607638 1114789 300127 1754419 1..."
      ]
     },
     "execution_count": 13,
     "metadata": {},
     "output_type": "execute_result"
    }
   ],
   "source": [
    "sub.to_csv('submission.csv', index = False)\n",
    "sub.head()"
   ]
  },
  {
   "cell_type": "code",
   "execution_count": null,
   "id": "0c0efa11",
   "metadata": {
    "papermill": {
     "duration": 0.005025,
     "end_time": "2023-01-07T09:49:25.427781",
     "exception": false,
     "start_time": "2023-01-07T09:49:25.422756",
     "status": "completed"
    },
    "tags": []
   },
   "outputs": [],
   "source": []
  }
 ],
 "metadata": {
  "kernelspec": {
   "display_name": "Python 3",
   "language": "python",
   "name": "python3"
  },
  "language_info": {
   "codemirror_mode": {
    "name": "ipython",
    "version": 3
   },
   "file_extension": ".py",
   "mimetype": "text/x-python",
   "name": "python",
   "nbconvert_exporter": "python",
   "pygments_lexer": "ipython3",
   "version": "3.7.12"
  },
  "papermill": {
   "default_parameters": {},
   "duration": 3238.99595,
   "end_time": "2023-01-07T09:49:29.370922",
   "environment_variables": {},
   "exception": null,
   "input_path": "__notebook__.ipynb",
   "output_path": "__notebook__.ipynb",
   "parameters": {},
   "start_time": "2023-01-07T08:55:30.374972",
   "version": "2.3.4"
  }
 },
 "nbformat": 4,
 "nbformat_minor": 5
}
